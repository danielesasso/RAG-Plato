{
 "cells": [
  {
   "cell_type": "markdown",
   "id": "a9fec10c",
   "metadata": {},
   "source": [
    "# evaluation"
   ]
  },
  {
   "cell_type": "code",
   "execution_count": null,
   "id": "a5a738df",
   "metadata": {},
   "outputs": [],
   "source": [
    "import os, glob, pandas as pd\n",
    "from textstat import flesch_reading_ease\n",
    "from surprise import Dataset, Reader, SVD\n",
    "from recbole.quick_start import run_recbole"
   ]
  },
  {
   "cell_type": "markdown",
   "id": "74fd159d",
   "metadata": {},
   "source": [
    "## Gather summaries"
   ]
  },
  {
   "cell_type": "code",
   "execution_count": null,
   "id": "5ee54aad",
   "metadata": {},
   "outputs": [],
   "source": [
    "records = []\n",
    "for idx, path in enumerate(sorted(glob.glob('evaluation/*.txt'))):\n",
    "    with open(path, 'r', encoding='utf-8') as f:\n",
    "        text = f.read()\n",
    "    fre = flesch_reading_ease(text)         \n",
    "    rating = max(1, min(5, round(fre/20)))  \n",
    "    records.append(['critic', f'file{idx}', rating])\n",
    "\n",
    "ratings = pd.DataFrame(records, columns=['user', 'item', 'rating'])"
   ]
  },
  {
   "cell_type": "markdown",
   "id": "0589244a",
   "metadata": {},
   "source": [
    "## Surprise – quick latent-factor view"
   ]
  },
  {
   "cell_type": "code",
   "execution_count": null,
   "id": "c010a4c5",
   "metadata": {},
   "outputs": [],
   "source": [
    "reader   = Reader(rating_scale=(1, 5))\n",
    "data     = Dataset.load_from_df(ratings, reader)\n",
    "trainset = data.build_full_trainset()\n",
    "algo     = SVD(n_epochs=5, verbose=False).fit(trainset)\n",
    "\n",
    "print('Surprise: first 5 predicted scores')\n",
    "for _, row in ratings.head().iterrows():\n",
    "    est = algo.predict(row.user, row.item).est\n",
    "    print(f'{row.item:<10}  truth={row.rating}  predicted={est:0.2f}')\n"
   ]
  },
  {
   "cell_type": "markdown",
   "id": "01a2b984",
   "metadata": {},
   "source": [
    "## RecBole – needs its own folder layout"
   ]
  },
  {
   "cell_type": "code",
   "execution_count": null,
   "id": "ca8680ff",
   "metadata": {},
   "outputs": [],
   "source": [
    "os.makedirs('dataset/summaries', exist_ok=True)\n",
    "ratings.to_csv('dataset/summaries/summaries.inter',\n",
    "               index=False, sep='\\t', header=True)\n",
    "\n",
    "# A few sensible defaults are already baked into quick_start\n",
    "run_recbole(model='MF', dataset='summaries',\n",
    "            config_dict={'epochs': 10,           \n",
    "                         'eval_step': 0,         \n",
    "                         'metric_decimal_place': 2})"
   ]
  }
 ],
 "metadata": {
  "language_info": {
   "name": "python"
  }
 },
 "nbformat": 4,
 "nbformat_minor": 5
}
